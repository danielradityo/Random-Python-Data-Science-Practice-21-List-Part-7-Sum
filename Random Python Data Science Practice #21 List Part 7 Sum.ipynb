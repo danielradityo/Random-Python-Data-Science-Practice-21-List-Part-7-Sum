{
 "cells": [
  {
   "cell_type": "markdown",
   "metadata": {},
   "source": [
    "## Random Python Data Science Practice #21"
   ]
  },
  {
   "cell_type": "markdown",
   "metadata": {},
   "source": [
    "## List Part 7 Sum"
   ]
  },
  {
   "cell_type": "code",
   "execution_count": 1,
   "metadata": {},
   "outputs": [
    {
     "name": "stdout",
     "output_type": "stream",
     "text": [
      "['Car', 'Motorcycle', 'Bycycle', 'Plane', 'Ship', 'Cano', 'Train', 'Truck', 'Jet', 'Helicopter']\n",
      "['Jakarta', 'Tokyo', 'Bandung', 'New York', 'Las Vegas', 'Yogyakarta', 'Beijing']\n",
      "['Daniel', 9, 3.4, True, 'Data', 'Science', False, 6.2, 4]\n"
     ]
    }
   ],
   "source": [
    "# Create list\n",
    "vehicle_list = ['Car', 'Motorcycle', 'Bycycle', 'Plane', 'Ship', 'Cano', 'Train', 'Truck', 'Jet', 'Helicopter'] # --> List use []\n",
    "city_list = ['Jakarta', 'Tokyo', 'Bandung', 'New York', 'Las Vegas', 'Yogyakarta', 'Beijing']\n",
    "mix_list = ['Daniel', 9, 3.4, True, 'Data', 'Science', False, 6.2, 4]\n",
    "print(vehicle_list)\n",
    "print(city_list)\n",
    "print(mix_list)"
   ]
  },
  {
   "cell_type": "markdown",
   "metadata": {},
   "source": [
    "## Sum list"
   ]
  },
  {
   "cell_type": "code",
   "execution_count": 2,
   "metadata": {},
   "outputs": [
    {
     "name": "stdout",
     "output_type": "stream",
     "text": [
      "['Car', 'Motorcycle', 'Bycycle', 'Plane', 'Ship', 'Cano', 'Train', 'Truck', 'Jet', 'Helicopter', 'Jakarta', 'Tokyo', 'Bandung', 'New York', 'Las Vegas', 'Yogyakarta', 'Beijing', 'Daniel', 9, 3.4, True, 'Data', 'Science', False, 6.2, 4]\n"
     ]
    }
   ],
   "source": [
    "# Sum is for adding other list to a list\n",
    "all_list = vehicle_list + city_list + mix_list\n",
    "print(all_list)"
   ]
  },
  {
   "cell_type": "code",
   "execution_count": null,
   "metadata": {},
   "outputs": [],
   "source": []
  }
 ],
 "metadata": {
  "kernelspec": {
   "display_name": "Python 3",
   "language": "python",
   "name": "python3"
  },
  "language_info": {
   "codemirror_mode": {
    "name": "ipython",
    "version": 3
   },
   "file_extension": ".py",
   "mimetype": "text/x-python",
   "name": "python",
   "nbconvert_exporter": "python",
   "pygments_lexer": "ipython3",
   "version": "3.8.5"
  }
 },
 "nbformat": 4,
 "nbformat_minor": 4
}
